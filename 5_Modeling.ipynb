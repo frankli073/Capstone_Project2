{
 "cells": [
  {
   "cell_type": "markdown",
   "id": "27c14f62",
   "metadata": {},
   "source": [
    "# 5 Modeling\n",
    "##  * 5.1 Importing Data\n",
    "##  * 5.2 Problem\n",
    "##  * 5.3 Modeling\n",
    "    * 5.3.1 Linear Regression\n",
    "    * 5.3.2 Random Forest Regression\n",
    "    * 5.3.3 Gradient Boosting Regression\n",
    "##  * 5.4 Model Comparison\n",
    "##  * 5.5 Final Selection and Reasoning"
   ]
  },
  {
   "cell_type": "markdown",
   "id": "362888d1",
   "metadata": {},
   "source": [
    "## 5.1 Importing Data"
   ]
  },
  {
   "cell_type": "code",
   "execution_count": 139,
   "id": "cfb48cab",
   "metadata": {},
   "outputs": [],
   "source": [
    "import pandas as pd\n",
    "import numpy as np\n",
    "import os\n",
    "import pickle\n",
    "import matplotlib.pyplot as plt\n",
    "import seaborn as sns\n",
    "from sklearn.cluster import KMeans\n",
    "from sklearn import __version__ as sklearn_version\n",
    "from sklearn.decomposition import PCA\n",
    "from sklearn.preprocessing import scale\n",
    "from sklearn.metrics import accuracy_score, f1_score\n",
    "\n",
    "from sklearn.model_selection import train_test_split, cross_validate, GridSearchCV, learning_curve\n",
    "from sklearn.preprocessing import StandardScaler, MinMaxScaler\n",
    "from sklearn.dummy import DummyRegressor\n",
    "from sklearn.linear_model import LinearRegression\n",
    "from sklearn.ensemble import RandomForestRegressor, RandomForestClassifier, GradientBoostingRegressor\n",
    "from sklearn.metrics import r2_score, mean_squared_error, mean_absolute_error\n",
    "from sklearn.pipeline import make_pipeline\n",
    "from sklearn.impute import SimpleImputer\n",
    "from sklearn.feature_selection import SelectKBest, f_regression\n",
    "import datetime"
   ]
  },
  {
   "cell_type": "code",
   "execution_count": 70,
   "id": "02abae75",
   "metadata": {},
   "outputs": [
    {
     "data": {
      "text/html": [
       "<div>\n",
       "<style scoped>\n",
       "    .dataframe tbody tr th:only-of-type {\n",
       "        vertical-align: middle;\n",
       "    }\n",
       "\n",
       "    .dataframe tbody tr th {\n",
       "        vertical-align: top;\n",
       "    }\n",
       "\n",
       "    .dataframe thead th {\n",
       "        text-align: right;\n",
       "    }\n",
       "</style>\n",
       "<table border=\"1\" class=\"dataframe\">\n",
       "  <thead>\n",
       "    <tr style=\"text-align: right;\">\n",
       "      <th></th>\n",
       "      <th>Player</th>\n",
       "      <th>Age</th>\n",
       "      <th>G</th>\n",
       "      <th>GS</th>\n",
       "      <th>MP</th>\n",
       "      <th>FG</th>\n",
       "      <th>FGA</th>\n",
       "      <th>FG%</th>\n",
       "      <th>3P</th>\n",
       "      <th>3PA</th>\n",
       "      <th>...</th>\n",
       "      <th>OBPM</th>\n",
       "      <th>DBPM</th>\n",
       "      <th>BPM</th>\n",
       "      <th>VORP</th>\n",
       "      <th>Salary</th>\n",
       "      <th>Pos_C</th>\n",
       "      <th>Pos_PF</th>\n",
       "      <th>Pos_PG</th>\n",
       "      <th>Pos_SF</th>\n",
       "      <th>Pos_SG</th>\n",
       "    </tr>\n",
       "  </thead>\n",
       "  <tbody>\n",
       "    <tr>\n",
       "      <th>0</th>\n",
       "      <td>Precious Achiuwa\\achiupr01MIA</td>\n",
       "      <td>21</td>\n",
       "      <td>61</td>\n",
       "      <td>4</td>\n",
       "      <td>12.1</td>\n",
       "      <td>2.0</td>\n",
       "      <td>3.7</td>\n",
       "      <td>0.544</td>\n",
       "      <td>0.0</td>\n",
       "      <td>0.0</td>\n",
       "      <td>...</td>\n",
       "      <td>-3.6</td>\n",
       "      <td>-0.5</td>\n",
       "      <td>-4.1</td>\n",
       "      <td>-0.4</td>\n",
       "      <td>2711280</td>\n",
       "      <td>0</td>\n",
       "      <td>1</td>\n",
       "      <td>0</td>\n",
       "      <td>0</td>\n",
       "      <td>0</td>\n",
       "    </tr>\n",
       "    <tr>\n",
       "      <th>1</th>\n",
       "      <td>Steven Adams\\adamsst01NOP</td>\n",
       "      <td>27</td>\n",
       "      <td>58</td>\n",
       "      <td>58</td>\n",
       "      <td>27.7</td>\n",
       "      <td>3.3</td>\n",
       "      <td>5.3</td>\n",
       "      <td>0.614</td>\n",
       "      <td>0.0</td>\n",
       "      <td>0.1</td>\n",
       "      <td>...</td>\n",
       "      <td>-0.4</td>\n",
       "      <td>0.1</td>\n",
       "      <td>-0.3</td>\n",
       "      <td>0.7</td>\n",
       "      <td>17073171</td>\n",
       "      <td>1</td>\n",
       "      <td>0</td>\n",
       "      <td>0</td>\n",
       "      <td>0</td>\n",
       "      <td>0</td>\n",
       "    </tr>\n",
       "    <tr>\n",
       "      <th>2</th>\n",
       "      <td>Bam Adebayo\\adebaba01MIA</td>\n",
       "      <td>23</td>\n",
       "      <td>64</td>\n",
       "      <td>64</td>\n",
       "      <td>33.5</td>\n",
       "      <td>7.1</td>\n",
       "      <td>12.5</td>\n",
       "      <td>0.570</td>\n",
       "      <td>0.0</td>\n",
       "      <td>0.1</td>\n",
       "      <td>...</td>\n",
       "      <td>2.9</td>\n",
       "      <td>2.0</td>\n",
       "      <td>4.9</td>\n",
       "      <td>3.7</td>\n",
       "      <td>28103550</td>\n",
       "      <td>1</td>\n",
       "      <td>0</td>\n",
       "      <td>0</td>\n",
       "      <td>0</td>\n",
       "      <td>0</td>\n",
       "    </tr>\n",
       "    <tr>\n",
       "      <th>3</th>\n",
       "      <td>LaMarcus Aldridge\\aldrila01SAS</td>\n",
       "      <td>35</td>\n",
       "      <td>21</td>\n",
       "      <td>18</td>\n",
       "      <td>25.9</td>\n",
       "      <td>5.5</td>\n",
       "      <td>11.8</td>\n",
       "      <td>0.464</td>\n",
       "      <td>1.3</td>\n",
       "      <td>3.6</td>\n",
       "      <td>...</td>\n",
       "      <td>-0.2</td>\n",
       "      <td>-0.2</td>\n",
       "      <td>-0.3</td>\n",
       "      <td>0.3</td>\n",
       "      <td>2641691</td>\n",
       "      <td>1</td>\n",
       "      <td>0</td>\n",
       "      <td>0</td>\n",
       "      <td>0</td>\n",
       "      <td>0</td>\n",
       "    </tr>\n",
       "    <tr>\n",
       "      <th>4</th>\n",
       "      <td>LaMarcus Aldridge\\aldrila01BRK</td>\n",
       "      <td>35</td>\n",
       "      <td>5</td>\n",
       "      <td>5</td>\n",
       "      <td>26.0</td>\n",
       "      <td>5.0</td>\n",
       "      <td>9.6</td>\n",
       "      <td>0.521</td>\n",
       "      <td>0.8</td>\n",
       "      <td>1.0</td>\n",
       "      <td>...</td>\n",
       "      <td>-0.2</td>\n",
       "      <td>-0.2</td>\n",
       "      <td>-0.3</td>\n",
       "      <td>0.3</td>\n",
       "      <td>2641691</td>\n",
       "      <td>1</td>\n",
       "      <td>0</td>\n",
       "      <td>0</td>\n",
       "      <td>0</td>\n",
       "      <td>0</td>\n",
       "    </tr>\n",
       "    <tr>\n",
       "      <th>...</th>\n",
       "      <td>...</td>\n",
       "      <td>...</td>\n",
       "      <td>...</td>\n",
       "      <td>...</td>\n",
       "      <td>...</td>\n",
       "      <td>...</td>\n",
       "      <td>...</td>\n",
       "      <td>...</td>\n",
       "      <td>...</td>\n",
       "      <td>...</td>\n",
       "      <td>...</td>\n",
       "      <td>...</td>\n",
       "      <td>...</td>\n",
       "      <td>...</td>\n",
       "      <td>...</td>\n",
       "      <td>...</td>\n",
       "      <td>...</td>\n",
       "      <td>...</td>\n",
       "      <td>...</td>\n",
       "      <td>...</td>\n",
       "      <td>...</td>\n",
       "    </tr>\n",
       "    <tr>\n",
       "      <th>449</th>\n",
       "      <td>Delon Wright\\wrighde01SAC</td>\n",
       "      <td>28</td>\n",
       "      <td>27</td>\n",
       "      <td>8</td>\n",
       "      <td>25.8</td>\n",
       "      <td>3.9</td>\n",
       "      <td>8.3</td>\n",
       "      <td>0.462</td>\n",
       "      <td>1.2</td>\n",
       "      <td>3.1</td>\n",
       "      <td>...</td>\n",
       "      <td>0.6</td>\n",
       "      <td>1.5</td>\n",
       "      <td>2.2</td>\n",
       "      <td>1.8</td>\n",
       "      <td>8526316</td>\n",
       "      <td>0</td>\n",
       "      <td>0</td>\n",
       "      <td>1</td>\n",
       "      <td>0</td>\n",
       "      <td>0</td>\n",
       "    </tr>\n",
       "    <tr>\n",
       "      <th>450</th>\n",
       "      <td>Thaddeus Young\\youngth01CHI</td>\n",
       "      <td>32</td>\n",
       "      <td>68</td>\n",
       "      <td>23</td>\n",
       "      <td>24.3</td>\n",
       "      <td>5.4</td>\n",
       "      <td>9.7</td>\n",
       "      <td>0.559</td>\n",
       "      <td>0.2</td>\n",
       "      <td>0.7</td>\n",
       "      <td>...</td>\n",
       "      <td>1.9</td>\n",
       "      <td>1.4</td>\n",
       "      <td>3.3</td>\n",
       "      <td>2.2</td>\n",
       "      <td>14190000</td>\n",
       "      <td>0</td>\n",
       "      <td>1</td>\n",
       "      <td>0</td>\n",
       "      <td>0</td>\n",
       "      <td>0</td>\n",
       "    </tr>\n",
       "    <tr>\n",
       "      <th>451</th>\n",
       "      <td>Trae Young\\youngtr01ATL</td>\n",
       "      <td>22</td>\n",
       "      <td>63</td>\n",
       "      <td>63</td>\n",
       "      <td>33.7</td>\n",
       "      <td>7.7</td>\n",
       "      <td>17.7</td>\n",
       "      <td>0.438</td>\n",
       "      <td>2.2</td>\n",
       "      <td>6.3</td>\n",
       "      <td>...</td>\n",
       "      <td>5.3</td>\n",
       "      <td>-1.7</td>\n",
       "      <td>3.7</td>\n",
       "      <td>3.0</td>\n",
       "      <td>8326471</td>\n",
       "      <td>0</td>\n",
       "      <td>0</td>\n",
       "      <td>1</td>\n",
       "      <td>0</td>\n",
       "      <td>0</td>\n",
       "    </tr>\n",
       "    <tr>\n",
       "      <th>452</th>\n",
       "      <td>Cody Zeller\\zelleco01CHO</td>\n",
       "      <td>28</td>\n",
       "      <td>48</td>\n",
       "      <td>21</td>\n",
       "      <td>20.9</td>\n",
       "      <td>3.8</td>\n",
       "      <td>6.8</td>\n",
       "      <td>0.559</td>\n",
       "      <td>0.1</td>\n",
       "      <td>0.6</td>\n",
       "      <td>...</td>\n",
       "      <td>-0.2</td>\n",
       "      <td>-0.2</td>\n",
       "      <td>-0.5</td>\n",
       "      <td>0.4</td>\n",
       "      <td>2389641</td>\n",
       "      <td>1</td>\n",
       "      <td>0</td>\n",
       "      <td>0</td>\n",
       "      <td>0</td>\n",
       "      <td>0</td>\n",
       "    </tr>\n",
       "    <tr>\n",
       "      <th>453</th>\n",
       "      <td>Ivica Zubac\\zubaciv01LAC</td>\n",
       "      <td>23</td>\n",
       "      <td>72</td>\n",
       "      <td>33</td>\n",
       "      <td>22.3</td>\n",
       "      <td>3.6</td>\n",
       "      <td>5.5</td>\n",
       "      <td>0.652</td>\n",
       "      <td>0.0</td>\n",
       "      <td>0.1</td>\n",
       "      <td>...</td>\n",
       "      <td>0.6</td>\n",
       "      <td>0.4</td>\n",
       "      <td>1.0</td>\n",
       "      <td>1.2</td>\n",
       "      <td>7518518</td>\n",
       "      <td>1</td>\n",
       "      <td>0</td>\n",
       "      <td>0</td>\n",
       "      <td>0</td>\n",
       "      <td>0</td>\n",
       "    </tr>\n",
       "  </tbody>\n",
       "</table>\n",
       "<p>454 rows × 53 columns</p>\n",
       "</div>"
      ],
      "text/plain": [
       "                             Player  Age   G  GS    MP   FG   FGA    FG%   3P  \\\n",
       "0     Precious Achiuwa\\achiupr01MIA   21  61   4  12.1  2.0   3.7  0.544  0.0   \n",
       "1         Steven Adams\\adamsst01NOP   27  58  58  27.7  3.3   5.3  0.614  0.0   \n",
       "2          Bam Adebayo\\adebaba01MIA   23  64  64  33.5  7.1  12.5  0.570  0.0   \n",
       "3    LaMarcus Aldridge\\aldrila01SAS   35  21  18  25.9  5.5  11.8  0.464  1.3   \n",
       "4    LaMarcus Aldridge\\aldrila01BRK   35   5   5  26.0  5.0   9.6  0.521  0.8   \n",
       "..                              ...  ...  ..  ..   ...  ...   ...    ...  ...   \n",
       "449       Delon Wright\\wrighde01SAC   28  27   8  25.8  3.9   8.3  0.462  1.2   \n",
       "450     Thaddeus Young\\youngth01CHI   32  68  23  24.3  5.4   9.7  0.559  0.2   \n",
       "451         Trae Young\\youngtr01ATL   22  63  63  33.7  7.7  17.7  0.438  2.2   \n",
       "452        Cody Zeller\\zelleco01CHO   28  48  21  20.9  3.8   6.8  0.559  0.1   \n",
       "453        Ivica Zubac\\zubaciv01LAC   23  72  33  22.3  3.6   5.5  0.652  0.0   \n",
       "\n",
       "     3PA  ...  OBPM  DBPM  BPM  VORP    Salary  Pos_C  Pos_PF  Pos_PG  Pos_SF  \\\n",
       "0    0.0  ...  -3.6  -0.5 -4.1  -0.4   2711280      0       1       0       0   \n",
       "1    0.1  ...  -0.4   0.1 -0.3   0.7  17073171      1       0       0       0   \n",
       "2    0.1  ...   2.9   2.0  4.9   3.7  28103550      1       0       0       0   \n",
       "3    3.6  ...  -0.2  -0.2 -0.3   0.3   2641691      1       0       0       0   \n",
       "4    1.0  ...  -0.2  -0.2 -0.3   0.3   2641691      1       0       0       0   \n",
       "..   ...  ...   ...   ...  ...   ...       ...    ...     ...     ...     ...   \n",
       "449  3.1  ...   0.6   1.5  2.2   1.8   8526316      0       0       1       0   \n",
       "450  0.7  ...   1.9   1.4  3.3   2.2  14190000      0       1       0       0   \n",
       "451  6.3  ...   5.3  -1.7  3.7   3.0   8326471      0       0       1       0   \n",
       "452  0.6  ...  -0.2  -0.2 -0.5   0.4   2389641      1       0       0       0   \n",
       "453  0.1  ...   0.6   0.4  1.0   1.2   7518518      1       0       0       0   \n",
       "\n",
       "     Pos_SG  \n",
       "0         0  \n",
       "1         0  \n",
       "2         0  \n",
       "3         0  \n",
       "4         0  \n",
       "..      ...  \n",
       "449       0  \n",
       "450       0  \n",
       "451       0  \n",
       "452       0  \n",
       "453       0  \n",
       "\n",
       "[454 rows x 53 columns]"
      ]
     },
     "execution_count": 70,
     "metadata": {},
     "output_type": "execute_result"
    }
   ],
   "source": [
    "file = '../Capstone_Project2/clean_df.csv'\n",
    "x_tr = '../Capstone_Project2/X_train.csv'\n",
    "x_te = '../Capstone_Project2/X_test.csv'\n",
    "y_tr = '../Capstone_Project2/y_train.csv'\n",
    "y_te = '../Capstone_Project2/y_test.csv'\n",
    "df = pd.read_csv(file)\n",
    "X = df.loc[:, ~df.columns.isin(['Salary'])]\n",
    "y = df.loc[:, 'Salary']\n",
    "X_train, X_test, y_train, y_test = train_test_split(X, y, test_size=0.3, random_state=2)\n",
    "\n",
    "df"
   ]
  },
  {
   "cell_type": "code",
   "execution_count": 71,
   "id": "ad876d60",
   "metadata": {},
   "outputs": [
    {
     "data": {
      "text/plain": [
       "((317, 51), (137, 51))"
      ]
     },
     "execution_count": 71,
     "metadata": {},
     "output_type": "execute_result"
    }
   ],
   "source": [
    "players_list = ['Player']\n",
    "players_train = X_train[players_list]\n",
    "players_test = X_test[players_list]\n",
    "X_train.drop(columns=players_list, inplace=True)\n",
    "X_test.drop(columns=players_list, inplace=True)\n",
    "X_train.shape, X_test.shape"
   ]
  },
  {
   "cell_type": "markdown",
   "id": "d7460bcd",
   "metadata": {},
   "source": [
    "## 5.2 Problem Introduction"
   ]
  },
  {
   "cell_type": "markdown",
   "id": "fd534b7c",
   "metadata": {},
   "source": [
    "For this step of our capstone project, we want to create a few models to help us with the prediction of the salaries of players. We want to create four models that will help us to make the final prediction."
   ]
  },
  {
   "cell_type": "code",
   "execution_count": 72,
   "id": "0ff5c510",
   "metadata": {
    "scrolled": true
   },
   "outputs": [
    {
     "data": {
      "image/png": "[encoded data removed]",
      "text/plain": [
       "<Figure size 432x288 with 1 Axes>"
      ]
     },
     "metadata": {
      "needs_background": "light"
     },
     "output_type": "display_data"
    }
   ],
   "source": [
    "x = [0, 10000000, 20000000, 30000000, 40000000, 50000000]\n",
    "_ = plt.figure()\n",
    "_ = plt.hist(df.Salary, histtype='step', bins=30, color='black')\n",
    "_ = plt.xlabel('Salaries (In Millions)')\n",
    "_ = plt.xticks(x,['0', '10', '20', '30', '40', '50'])\n",
    "_ = plt.axvline(df.Salary.median(), c='r', linestyle='--', label='Median')\n",
    "_ = plt.axvline(df.Salary.mean(), c='b', linestyle=':', label='Mean')\n",
    "_ = plt.legend(loc='upper right')"
   ]
  },
  {
   "cell_type": "code",
   "execution_count": 78,
   "id": "4983e13d",
   "metadata": {},
   "outputs": [
    {
     "data": {
      "text/plain": [
       "4807075.5"
      ]
     },
     "execution_count": 78,
     "metadata": {},
     "output_type": "execute_result"
    }
   ],
   "source": [
    "df.Salary.median()"
   ]
  },
  {
   "cell_type": "code",
   "execution_count": 79,
   "id": "4c15bab4",
   "metadata": {},
   "outputs": [
    {
     "data": {
      "text/plain": [
       "9103413.046255507"
      ]
     },
     "execution_count": 79,
     "metadata": {},
     "output_type": "execute_result"
    }
   ],
   "source": [
    "df.Salary.mean()"
   ]
  },
  {
   "cell_type": "markdown",
   "id": "945ef767",
   "metadata": {},
   "source": [
    "## 5.3 Modeling"
   ]
  },
  {
   "cell_type": "markdown",
   "id": "09c91f19",
   "metadata": {},
   "source": [
    "### 5.3.1 Linear Regression"
   ]
  },
  {
   "cell_type": "markdown",
   "id": "ff59bdd3",
   "metadata": {},
   "source": [
    "Let's first start with a simple linear regression model and test its R2 score. Then, we want to use the Mean Absolute Error to examine the model performance. The reason why we are using MAE is that the NBA is prone to overpay or underpay their players, and someimes the performance of a player might surpass his corresponding salary, so we do not want to penalize the model with mean squared error. "
   ]
  },
  {
   "cell_type": "code",
   "execution_count": 80,
   "id": "ae41cb62",
   "metadata": {},
   "outputs": [
    {
     "name": "stdout",
     "output_type": "stream",
     "text": [
      "(0.7266936092889612, 0.6269387329105365)\n"
     ]
    }
   ],
   "source": [
    "#Let's start with a simple linear regression, just to check the R2 scores.\n",
    "#Data is already scaled with Standard Scaler in the last notebook\n",
    "lr = LinearRegression()\n",
    "lr.fit(X_train, y_train)\n",
    "y_tr_pred_lr = lr.predict(X_train)\n",
    "y_te_pred_lr = lr.predict(X_test)\n",
    "median_r2_simple_lr = r2_score(y_train, y_tr_pred_lr), r2_score(y_test, y_te_pred_lr)\n",
    "print(median_r2_simple_lr)"
   ]
  },
  {
   "cell_type": "markdown",
   "id": "fa7b8b12",
   "metadata": {},
   "source": [
    "We see that the R2 score is around 0.72 for the training set and 0.63 for the testing set. This is just a simplt linear regression model that we have for now. Later, we want to make a grid search to select the best parameters for our linear model."
   ]
  },
  {
   "cell_type": "code",
   "execution_count": 81,
   "id": "a8cdd164",
   "metadata": {},
   "outputs": [],
   "source": [
    "#We will be using kbest as one of our parameters\n",
    "k = [k+1 for k in range(len(X_train.columns))]\n",
    "grid_params_lr = {'selectkbest__k': k}"
   ]
  },
  {
   "cell_type": "code",
   "execution_count": 82,
   "id": "d490f603",
   "metadata": {},
   "outputs": [],
   "source": [
    "#This is out pipeline\n",
    "pipe_lr = make_pipeline(\n",
    "    StandardScaler(),\n",
    "    SelectKBest(f_regression),\n",
    "    LinearRegression()\n",
    ")"
   ]
  },
  {
   "cell_type": "code",
   "execution_count": 83,
   "id": "641ec0e9",
   "metadata": {},
   "outputs": [
    {
     "data": {
      "text/plain": [
       "GridSearchCV(cv=5,\n",
       "             estimator=Pipeline(steps=[('standardscaler', StandardScaler()),\n",
       "                                       ('selectkbest',\n",
       "                                        SelectKBest(score_func=<function f_regression at 0x7fafd4b34940>)),\n",
       "                                       ('linearregression',\n",
       "                                        LinearRegression())]),\n",
       "             n_jobs=-1,\n",
       "             param_grid={'selectkbest__k': [1, 2, 3, 4, 5, 6, 7, 8, 9, 10, 11,\n",
       "                                            12, 13, 14, 15, 16, 17, 18, 19, 20,\n",
       "                                            21, 22, 23, 24, 25, 26, 27, 28, 29,\n",
       "                                            30, ...]})"
      ]
     },
     "execution_count": 83,
     "metadata": {},
     "output_type": "execute_result"
    }
   ],
   "source": [
    "lr_grid_cv = GridSearchCV(pipe_lr, param_grid=grid_params_lr, cv=5, n_jobs=-1)\n",
    "lr_grid_cv.fit(X_train, y_train)"
   ]
  },
  {
   "cell_type": "code",
   "execution_count": 84,
   "id": "7d4756f2",
   "metadata": {},
   "outputs": [],
   "source": [
    "score_mean = lr_grid_cv.cv_results_['mean_test_score']\n",
    "score_std = lr_grid_cv.cv_results_['std_test_score']\n",
    "cv_k = [k for k in lr_grid_cv.cv_results_['param_selectkbest__k']]"
   ]
  },
  {
   "cell_type": "code",
   "execution_count": 85,
   "id": "0a3f9f75",
   "metadata": {},
   "outputs": [
    {
     "data": {
      "text/plain": [
       "<Figure size 432x288 with 0 Axes>"
      ]
     },
     "metadata": {},
     "output_type": "display_data"
    },
    {
     "data": {
      "image/png": "[encoded data removed]",
      "text/plain": [
       "<Figure size 720x360 with 1 Axes>"
      ]
     },
     "metadata": {
      "needs_background": "light"
     },
     "output_type": "display_data"
    }
   ],
   "source": [
    "best_k = lr_grid_cv.best_params_['selectkbest__k']\n",
    "_ = plt.figure()\n",
    "_ = plt.subplots(figsize=(10, 5))\n",
    "_ = plt.errorbar(cv_k, score_mean, yerr=score_std)\n",
    "_ = plt.axvline(x=best_k, c='r', ls='--', alpha=.5, label='Best K')\n",
    "_ = plt.xlabel('k')\n",
    "_ = plt.ylabel('CV score (r-squared)')\n",
    "_ = plt.title('Pipeline mean CV score (error bars +/- 1sd)');\n",
    "_ = plt.legend()"
   ]
  },
  {
   "cell_type": "markdown",
   "id": "7b2380f7",
   "metadata": {},
   "source": [
    "From the graph, we can see that the best k is 6. "
   ]
  },
  {
   "cell_type": "code",
   "execution_count": 86,
   "id": "6eb428bb",
   "metadata": {},
   "outputs": [
    {
     "data": {
      "text/plain": [
       "PTS     4.217837e+06\n",
       "VORP    3.660904e+06\n",
       "FGA     3.190136e+06\n",
       "FT      2.273850e+06\n",
       "FTA    -7.299060e+05\n",
       "FG     -4.123424e+06\n",
       "dtype: float64"
      ]
     },
     "execution_count": 86,
     "metadata": {},
     "output_type": "execute_result"
    }
   ],
   "source": [
    "selected = lr_grid_cv.best_estimator_.named_steps.selectkbest.get_support()\n",
    "coefs = lr_grid_cv.best_estimator_.named_steps.linearregression.coef_\n",
    "features = X_train.columns[selected]\n",
    "pd.Series(coefs, index=features).sort_values(ascending=False)"
   ]
  },
  {
   "cell_type": "markdown",
   "id": "74c4287d",
   "metadata": {},
   "source": [
    "With k equals to 6, our linear regression model with select k best parameters work the best. By looking at these features, we can see that for a basketball player, it seems like his average points and everything related to scoring might be more important than attributes like rebounds or assists.\n",
    "\n",
    "Below is our best linear regression esrimators."
   ]
  },
  {
   "cell_type": "code",
   "execution_count": 88,
   "id": "c7064cf2",
   "metadata": {},
   "outputs": [],
   "source": [
    "best_lr_estimator = lr_grid_cv.best_estimator_"
   ]
  },
  {
   "cell_type": "markdown",
   "id": "1953ef82",
   "metadata": {},
   "source": [
    "## 5.3.2 Random Forest Regression\n",
    "\n",
    "#### We want to create a pipeline with some parameters for the random forest regression models"
   ]
  },
  {
   "cell_type": "code",
   "execution_count": 120,
   "id": "b3926e43",
   "metadata": {},
   "outputs": [],
   "source": [
    "n_est = [int(n) for n in np.logspace(start=1, stop=3, num=20)]\n",
    "param_grid_rf = {\n",
    "    'standardscaler': [StandardScaler(), None],\n",
    "    'randomforestregressor__max_depth': [80, 90, 100, 110],\n",
    "    'randomforestregressor__bootstrap': [True, False],\n",
    "    'randomforestregressor__min_samples_leaf': [3,4,5],\n",
    "    'randomforestregressor__n_estimators': n_est}\n"
   ]
  },
  {
   "cell_type": "code",
   "execution_count": 121,
   "id": "1cd17d3f",
   "metadata": {
    "scrolled": true
   },
   "outputs": [
    {
     "data": {
      "text/plain": [
       "dict_keys(['bootstrap', 'ccp_alpha', 'criterion', 'max_depth', 'max_features', 'max_leaf_nodes', 'max_samples', 'min_impurity_decrease', 'min_samples_leaf', 'min_samples_split', 'min_weight_fraction_leaf', 'n_estimators', 'n_jobs', 'oob_score', 'random_state', 'verbose', 'warm_start'])"
      ]
     },
     "execution_count": 121,
     "metadata": {},
     "output_type": "execute_result"
    }
   ],
   "source": [
    "RandomForestRegressor().get_params().keys()"
   ]
  },
  {
   "cell_type": "code",
   "execution_count": 122,
   "id": "62647d21",
   "metadata": {
    "scrolled": false
   },
   "outputs": [
    {
     "data": {
      "text/plain": [
       "GridSearchCV(cv=5,\n",
       "             estimator=Pipeline(steps=[('standardscaler', StandardScaler()),\n",
       "                                       ('randomforestregressor',\n",
       "                                        RandomForestRegressor())]),\n",
       "             n_jobs=-1,\n",
       "             param_grid={'randomforestregressor__bootstrap': [True, False],\n",
       "                         'randomforestregressor__max_depth': [80, 90, 100, 110],\n",
       "                         'randomforestregressor__min_samples_leaf': [3, 4, 5],\n",
       "                         'randomforestregressor__n_estimators': [10, 12, 16, 20,\n",
       "                                                                 26, 33, 42, 54,\n",
       "                                                                 69, 88, 112,\n",
       "                                                                 143, 183, 233,\n",
       "                                                                 297, 379, 483,\n",
       "                                                                 615, 784,\n",
       "                                                                 1000],\n",
       "                         'standardscaler': [StandardScaler(), None]})"
      ]
     },
     "execution_count": 122,
     "metadata": {},
     "output_type": "execute_result"
    }
   ],
   "source": [
    "pipeline_rf = make_pipeline(\n",
    "    StandardScaler(),\n",
    "    RandomForestRegressor()\n",
    ")\n",
    "\n",
    "\n",
    "rf_grid_cv = GridSearchCV(pipeline_rf, param_grid=param_grid_rf, cv=5, n_jobs=-1)\n",
    "rf_grid_cv.fit(X_train, y_train)"
   ]
  },
  {
   "cell_type": "code",
   "execution_count": 124,
   "id": "5ec7b662",
   "metadata": {},
   "outputs": [
    {
     "data": {
      "text/plain": [
       "{'randomforestregressor__bootstrap': True,\n",
       " 'randomforestregressor__max_depth': 90,\n",
       " 'randomforestregressor__min_samples_leaf': 3,\n",
       " 'randomforestregressor__n_estimators': 69,\n",
       " 'standardscaler': None}"
      ]
     },
     "execution_count": 124,
     "metadata": {},
     "output_type": "execute_result"
    }
   ],
   "source": [
    "rf_grid_cv.best_params_"
   ]
  },
  {
   "cell_type": "code",
   "execution_count": 134,
   "id": "5fb6868a",
   "metadata": {},
   "outputs": [
    {
     "data": {
      "image/png": "[encoded data removed]",
      "text/plain": [
       "<Figure size 720x360 with 1 Axes>"
      ]
     },
     "metadata": {
      "needs_background": "light"
     },
     "output_type": "display_data"
    }
   ],
   "source": [
    "plt.subplots(figsize=(10, 5))\n",
    "imps = rf_grid_cv.best_estimator_.named_steps.randomforestregressor.feature_importances_\n",
    "rf_feat_imps = pd.Series(imps, index=X_train.columns).sort_values(ascending=False)\n",
    "rf_feat_imps.plot(kind='bar')\n",
    "plt.xlabel('features')\n",
    "plt.ylabel('importance')\n",
    "plt.title('Best random forest regressor feature importances');"
   ]
  },
  {
   "cell_type": "code",
   "execution_count": 138,
   "id": "34e1bdc2",
   "metadata": {},
   "outputs": [
    {
     "name": "stdout",
     "output_type": "stream",
     "text": [
      "It seems like points is still a determining factor, but compared with our linear regression model, it seems liek minutes played and age played more important roles.\n"
     ]
    }
   ],
   "source": [
    "print(\"It seems like points is still a determining factor, but compared with our linear regression model, it seems liek minutes played and age played more important roles.\")"
   ]
  },
  {
   "cell_type": "code",
   "execution_count": 136,
   "id": "9fd6a7cc",
   "metadata": {},
   "outputs": [
    {
     "data": {
      "text/plain": [
       "0.6651182840692228"
      ]
     },
     "execution_count": 136,
     "metadata": {},
     "output_type": "execute_result"
    }
   ],
   "source": [
    "rf_best_cv_results = cross_validate(rf_grid_cv.best_estimator_, X_train, y_train, cv=5)\n",
    "rf_best_scores = rf_best_cv_results['test_score']\n",
    "np.mean(rf_best_scores)"
   ]
  },
  {
   "cell_type": "code",
   "execution_count": 137,
   "id": "7cada89d",
   "metadata": {},
   "outputs": [
    {
     "name": "stdout",
     "output_type": "stream",
     "text": [
      "The number above is the mean of our random forest regressor's cv scores.\n"
     ]
    }
   ],
   "source": [
    "print(\"The number above is the mean of our random forest regressor's cv scores.\")"
   ]
  },
  {
   "cell_type": "markdown",
   "id": "ae4ca182",
   "metadata": {},
   "source": [
    "### 5.3.3 Gradient Boosting Regressor"
   ]
  },
  {
   "cell_type": "code",
   "execution_count": 153,
   "id": "58e7184d",
   "metadata": {},
   "outputs": [],
   "source": [
    "gbr = GradientBoostingRegressor()\n",
    "pipeline_gbr = make_pipeline(\n",
    "    StandardScaler(),\n",
    "    gbr\n",
    ")\n",
    "\n",
    "param_grid_gbr = {\n",
    "    'standardscaler': [StandardScaler(), None],\n",
    "    \"gradientboostingregressor__max_features\": [3,4,5,6,7],\n",
    "    \"gradientboostingregressor__max_depth\": [3,4,5],\n",
    "    \"gradientboostingregressor__n_estimators\": n_est,\n",
    "    \"gradientboostingregressor__learning_rate\": [0.001,0.01,0.1]\n",
    "}"
   ]
  },
  {
   "cell_type": "code",
   "execution_count": 154,
   "id": "a7b1c837",
   "metadata": {
    "scrolled": true
   },
   "outputs": [
    {
     "data": {
      "text/plain": [
       "dict_keys(['alpha', 'ccp_alpha', 'criterion', 'init', 'learning_rate', 'loss', 'max_depth', 'max_features', 'max_leaf_nodes', 'min_impurity_decrease', 'min_samples_leaf', 'min_samples_split', 'min_weight_fraction_leaf', 'n_estimators', 'n_iter_no_change', 'random_state', 'subsample', 'tol', 'validation_fraction', 'verbose', 'warm_start'])"
      ]
     },
     "execution_count": 154,
     "metadata": {},
     "output_type": "execute_result"
    }
   ],
   "source": [
    "gbr.get_params().keys()"
   ]
  },
  {
   "cell_type": "code",
   "execution_count": 155,
   "id": "0eae4069",
   "metadata": {},
   "outputs": [
    {
     "data": {
      "text/plain": [
       "GridSearchCV(cv=5,\n",
       "             estimator=Pipeline(steps=[('standardscaler', StandardScaler()),\n",
       "                                       ('gradientboostingregressor',\n",
       "                                        GradientBoostingRegressor())]),\n",
       "             n_jobs=-1,\n",
       "             param_grid={'gradientboostingregressor__learning_rate': [0.001,\n",
       "                                                                      0.01,\n",
       "                                                                      0.1],\n",
       "                         'gradientboostingregressor__max_depth': [3, 4, 5],\n",
       "                         'gradientboostingregressor__max_features': [3, 4, 5, 6,\n",
       "                                                                     7],\n",
       "                         'gradientboostingregressor__n_estimators': [10, 12, 16,\n",
       "                                                                     20, 26, 33,\n",
       "                                                                     42, 54, 69,\n",
       "                                                                     88, 112,\n",
       "                                                                     143, 183,\n",
       "                                                                     233, 297,\n",
       "                                                                     379, 483,\n",
       "                                                                     615, 784,\n",
       "                                                                     1000],\n",
       "                         'standardscaler': [StandardScaler(), None]})"
      ]
     },
     "execution_count": 155,
     "metadata": {},
     "output_type": "execute_result"
    }
   ],
   "source": [
    "gbr_grid_cv = GridSearchCV(pipeline_gbr, param_grid=param_grid_gbr, cv=5, n_jobs=-1)\n",
    "gbr_grid_cv.fit(X_train, y_train)"
   ]
  },
  {
   "cell_type": "code",
   "execution_count": 156,
   "id": "226a119b",
   "metadata": {},
   "outputs": [
    {
     "data": {
      "image/png": "[encoded data removed]",
      "text/plain": [
       "<Figure size 720x360 with 1 Axes>"
      ]
     },
     "metadata": {
      "needs_background": "light"
     },
     "output_type": "display_data"
    }
   ],
   "source": [
    "plt.subplots(figsize=(10, 5))\n",
    "imps = gbr_grid_cv.best_estimator_.named_steps.gradientboostingregressor.feature_importances_\n",
    "rgb_feat_imps = pd.Series(imps, index=X_train.columns).sort_values(ascending=False)\n",
    "rgb_feat_imps.plot(kind='bar')\n",
    "plt.xlabel('features')\n",
    "plt.ylabel('importance')\n",
    "plt.title('Best Gradient Boosting Regressor feature importances');"
   ]
  },
  {
   "cell_type": "markdown",
   "id": "16fd8c37",
   "metadata": {},
   "source": [
    "## 5.4 Model Comparison"
   ]
  },
  {
   "cell_type": "markdown",
   "id": "93075866",
   "metadata": {},
   "source": [
    "### Since we already have the three models, we want to compare their performance to decide whether we want to keep these models or not. We want to compare their mean absolute errors for both the training and testing datasets to assess their performances"
   ]
  },
  {
   "cell_type": "markdown",
   "id": "9f1fc928",
   "metadata": {},
   "source": [
    "### 5.4.1 Performance for Linear Regression"
   ]
  },
  {
   "cell_type": "code",
   "execution_count": 173,
   "id": "cd9ebfd7",
   "metadata": {},
   "outputs": [
    {
     "name": "stdout",
     "output_type": "stream",
     "text": [
      "The mean for the mean absolute error for the training set is 4313050.091084208\n",
      "The std for the mean absolute error for the training set is 474921.4591796549.\n",
      "The mean absolute error is 4331373.9628712265.\n"
     ]
    }
   ],
   "source": [
    "lr_mae = cross_validate(lr_grid_cv.best_estimator_, X_train, y_train, \n",
    "                            scoring='neg_mean_absolute_error', cv=5, n_jobs=-1)\n",
    "lr_mae_mean = np.mean(-1*lr_mae['test_score'])\n",
    "lr_mae_std = np.std(-1*lr_mae['test_score'])\n",
    "print(\"The mean for the mean absolute error for the training set is \" + str(lr_mae_mean))\n",
    "print(\"The std for the mean absolute error for the training set is \" + str(lr_mae_std) + '.')\n",
    "print(\"The mean absolute error is \" + str(mean_absolute_error(y_test, lr_grid_cv.best_estimator_.predict(X_test))) + \".\")"
   ]
  },
  {
   "cell_type": "code",
   "execution_count": 177,
   "id": "3efe85fb",
   "metadata": {
    "scrolled": true
   },
   "outputs": [
    {
     "data": {
      "text/plain": [
       "{'fit_time': array([0.0077951 , 0.00929093, 0.01141596, 0.00847101, 0.01025796]),\n",
       " 'score_time': array([0.00251102, 0.00216889, 0.00422478, 0.00542736, 0.00409603]),\n",
       " 'test_score': array([-3647657.72777885, -4676209.87637406, -4786849.64666894,\n",
       "        -3831087.15912934, -4623446.04546985])}"
      ]
     },
     "execution_count": 177,
     "metadata": {},
     "output_type": "execute_result"
    }
   ],
   "source": []
  },
  {
   "cell_type": "code",
   "execution_count": null,
   "id": "3838e9c6",
   "metadata": {},
   "outputs": [],
   "source": [
    "lr_mae_mean\n",
    "lr_mae_std"
   ]
  },
  {
   "cell_type": "markdown",
   "id": "faf433e5",
   "metadata": {},
   "source": [
    "### 5.4.2 Performance for Random Forest Regression"
   ]
  },
  {
   "cell_type": "code",
   "execution_count": 174,
   "id": "36e0a7ba",
   "metadata": {},
   "outputs": [
    {
     "name": "stdout",
     "output_type": "stream",
     "text": [
      "The mean for the mean absolute error for the training set is 3769282.576796056\n",
      "The std for the mean absolute error for the training set is 439739.1236694324.\n",
      "The mean absolute error is 4016217.467434114.\n"
     ]
    }
   ],
   "source": [
    "rf_neg_mae = cross_validate(rf_grid_cv.best_estimator_, X_train, y_train, \n",
    "                            scoring='neg_mean_absolute_error', cv=5, n_jobs=-1)\n",
    "\n",
    "rf_mae_mean = np.mean(-1 * rf_neg_mae['test_score'])\n",
    "rf_mae_std = np.std(-1 * rf_neg_mae['test_score'])\n",
    "print(\"The mean for the mean absolute error for the training set is \" + str(rf_mae_mean))\n",
    "print(\"The std for the mean absolute error for the training set is \" + str(rf_mae_std) + '.')\n",
    "print(\"The mean absolute error is \" + str(mean_absolute_error(y_test, rf_grid_cv.best_estimator_.predict(X_test))) + \".\")"
   ]
  },
  {
   "cell_type": "markdown",
   "id": "911cb28f",
   "metadata": {},
   "source": [
    "### 5.4.3 Performance for Gradient Boostoing Regression"
   ]
  },
  {
   "cell_type": "code",
   "execution_count": 176,
   "id": "7a95f29f",
   "metadata": {},
   "outputs": [
    {
     "name": "stdout",
     "output_type": "stream",
     "text": [
      "The mean for the mean absolute error for the training set is 3834261.6223604693\n",
      "The std for the mean absolute error for the training set is 475313.33077093214.\n",
      "The mean absolute error is 4077129.7357227975.\n"
     ]
    }
   ],
   "source": [
    "gbr_neg_mae = cross_validate(gbr_grid_cv.best_estimator_, X_train, y_train, \n",
    "                            scoring='neg_mean_absolute_error', cv=5, n_jobs=-1)\n",
    "\n",
    "gbr_mae_mean = np.mean(-1 * gbr_neg_mae['test_score'])\n",
    "gbr_mae_std = np.std(-1 * gbr_neg_mae['test_score'])\n",
    "print(\"The mean for the mean absolute error for the training set is \" + str(gbr_mae_mean))\n",
    "print(\"The std for the mean absolute error for the training set is \" + str(gbr_mae_std) + '.')\n",
    "print(\"The mean absolute error is \" + str(mean_absolute_error(y_test, gbr_grid_cv.best_estimator_.predict(X_test))) + \".\")"
   ]
  },
  {
   "cell_type": "code",
   "execution_count": 182,
   "id": "fdf9912b",
   "metadata": {},
   "outputs": [],
   "source": [
    "mean_mae_tr = [lr_mae_mean,rf_mae_mean,gbr_mae_mean]\n",
    "std_mae_tr = [lr_mae_std,rf_mae_std,gbr_mae_std]\n",
    "mae_te = [mean_absolute_error(y_test, lr_grid_cv.best_estimator_.predict(X_test)),mean_absolute_error(y_test, rf_grid_cv.best_estimator_.predict(X_test)),mean_absolute_error(y_test, gbr_grid_cv.best_estimator_.predict(X_test))]"
   ]
  },
  {
   "cell_type": "code",
   "execution_count": 195,
   "id": "32f53791",
   "metadata": {},
   "outputs": [
    {
     "data": {
      "image/png": "[encoded data removed]",
      "text/plain": [
       "<Figure size 720x360 with 1 Axes>"
      ]
     },
     "metadata": {
      "needs_background": "light"
     },
     "output_type": "display_data"
    }
   ],
   "source": [
    "_ = plt.figure(figsize=(10,5))\n",
    "index = [1,2,3]\n",
    "_ = plt.bar([1, 2, 3], mean_mae_tr, width=0.2, label='Mean_MAE')\n",
    "_ = plt.bar([1.2, 2.2, 3.2], std_mae_tr, width=0.2, label='STD_MAE')\n",
    "_ = plt.bar([1.4, 2.4, 3.4], mae_te, width=0.2, label='MAE for Testing')\n",
    "_ = plt.xlabel(\"Regressors\")\n",
    "_ = plt.ylabel(\"Values in Millions\")\n",
    "_ = plt.title(\"Metrics for Different Regressors\")\n",
    "_ = plt.xticks([1,2,3], ['Linear', 'Random Forest', 'Gradient Boosting'])\n",
    "_ = plt.legend()\n"
   ]
  },
  {
   "cell_type": "markdown",
   "id": "a0ab70c1",
   "metadata": {},
   "source": [
    "### 5.5 Final Model Selection and Reasoning"
   ]
  },
  {
   "cell_type": "markdown",
   "id": "bbad7e6a",
   "metadata": {},
   "source": [
    "#### From the metrics we have chosen, it seems like Random Forest Regressor with its respective best parameters would outperform the other two models. It has the lowest mean and std for mean absolute error of the training set, and the mean absolute of the prediction from the testing data is the lowest among the three model as well. As a result, we will go with random forest regressor as our final model selection. Below is a graph showing the performance of the three models."
   ]
  },
  {
   "cell_type": "code",
   "execution_count": null,
   "id": "891aeffd",
   "metadata": {},
   "outputs": [],
   "source": []
  }
 ],
 "metadata": {
  "kernelspec": {
   "display_name": "Python 3 (ipykernel)",
   "language": "python",
   "name": "python3"
  },
  "language_info": {
   "codemirror_mode": {
    "name": "ipython",
    "version": 3
   },
   "file_extension": ".py",
   "mimetype": "text/x-python",
   "name": "python",
   "nbconvert_exporter": "python",
   "pygments_lexer": "ipython3",
   "version": "3.9.12"
  }
 },
 "nbformat": 4,
 "nbformat_minor": 5
}
