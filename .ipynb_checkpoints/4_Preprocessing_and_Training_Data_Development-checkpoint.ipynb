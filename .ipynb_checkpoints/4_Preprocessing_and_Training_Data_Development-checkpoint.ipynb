{
 "cells": [
  {
   "cell_type": "markdown",
   "id": "a2c3915d",
   "metadata": {},
   "source": [
    "## 4 Preprocessing and Training Data Development\n",
    "###  * 4.1 Importing Data\n",
    "###  * 4.2 Feature Engineering and Cleaning Dataset\n",
    "    * 4.2.1 Examine the variables and null values\n",
    "    * 4.2.2 Feature Engineering categorical variables\n",
    "###  * 4.3 Standardize Data Test and Split Data\n",
    "    * 4.3.1 Test and Split and Standardize\n",
    "###  * 4.4 Principle Component Analysis"
   ]
  },
  {
   "cell_type": "markdown",
   "id": "89521c2b",
   "metadata": {},
   "source": [
    "## 4.1 Imporing Data"
   ]
  },
  {
   "cell_type": "code",
   "execution_count": 172,
   "id": "3c4f3db5",
   "metadata": {},
   "outputs": [],
   "source": [
    "import pandas as pd\n",
    "import numpy as np\n",
    "import os\n",
    "import pickle\n",
    "import matplotlib.pyplot as plt\n",
    "import seaborn as sns\n",
    "from sklearn.cluster import KMeans\n",
    "from sklearn import __version__ as sklearn_version\n",
    "from sklearn.decomposition import PCA\n",
    "from sklearn.preprocessing import scale\n",
    "from sklearn.metrics import accuracy_score, f1_score\n",
    "\n",
    "from sklearn.model_selection import train_test_split, cross_validate, GridSearchCV, learning_curve\n",
    "from sklearn.preprocessing import StandardScaler, MinMaxScaler\n",
    "from sklearn.dummy import DummyRegressor\n",
    "from sklearn.linear_model import LinearRegression\n",
    "from sklearn.ensemble import RandomForestRegressor, RandomForestClassifier\n",
    "from sklearn.metrics import r2_score, mean_squared_error, mean_absolute_error\n",
    "from sklearn.pipeline import make_pipeline\n",
    "from sklearn.impute import SimpleImputer\n",
    "from sklearn.feature_selection import SelectKBest, f_regression\n",
    "import datetime"
   ]
  },
  {
   "cell_type": "code",
   "execution_count": 173,
   "id": "926a9ed0",
   "metadata": {},
   "outputs": [
    {
     "data": {
      "text/html": [
       "<div>\n",
       "<style scoped>\n",
       "    .dataframe tbody tr th:only-of-type {\n",
       "        vertical-align: middle;\n",
       "    }\n",
       "\n",
       "    .dataframe tbody tr th {\n",
       "        vertical-align: top;\n",
       "    }\n",
       "\n",
       "    .dataframe thead th {\n",
       "        text-align: right;\n",
       "    }\n",
       "</style>\n",
       "<table border=\"1\" class=\"dataframe\">\n",
       "  <thead>\n",
       "    <tr style=\"text-align: right;\">\n",
       "      <th></th>\n",
       "      <th>Rk</th>\n",
       "      <th>Player</th>\n",
       "      <th>Pos</th>\n",
       "      <th>Age</th>\n",
       "      <th>Tm</th>\n",
       "      <th>G</th>\n",
       "      <th>GS</th>\n",
       "      <th>MP</th>\n",
       "      <th>FG</th>\n",
       "      <th>FGA</th>\n",
       "      <th>...</th>\n",
       "      <th>USG%</th>\n",
       "      <th>OWS</th>\n",
       "      <th>DWS</th>\n",
       "      <th>WS</th>\n",
       "      <th>WS/48</th>\n",
       "      <th>OBPM</th>\n",
       "      <th>DBPM</th>\n",
       "      <th>BPM</th>\n",
       "      <th>VORP</th>\n",
       "      <th>Salary</th>\n",
       "    </tr>\n",
       "  </thead>\n",
       "  <tbody>\n",
       "    <tr>\n",
       "      <th>0</th>\n",
       "      <td>1</td>\n",
       "      <td>Precious Achiuwa\\achiupr01</td>\n",
       "      <td>PF</td>\n",
       "      <td>21</td>\n",
       "      <td>MIA</td>\n",
       "      <td>61</td>\n",
       "      <td>4</td>\n",
       "      <td>12.1</td>\n",
       "      <td>2.0</td>\n",
       "      <td>3.7</td>\n",
       "      <td>...</td>\n",
       "      <td>19.5</td>\n",
       "      <td>0.3</td>\n",
       "      <td>1.0</td>\n",
       "      <td>1.3</td>\n",
       "      <td>0.085</td>\n",
       "      <td>-3.6</td>\n",
       "      <td>-0.5</td>\n",
       "      <td>-4.1</td>\n",
       "      <td>-0.4</td>\n",
       "      <td>2711280</td>\n",
       "    </tr>\n",
       "    <tr>\n",
       "      <th>2</th>\n",
       "      <td>3</td>\n",
       "      <td>Steven Adams\\adamsst01</td>\n",
       "      <td>C</td>\n",
       "      <td>27</td>\n",
       "      <td>NOP</td>\n",
       "      <td>58</td>\n",
       "      <td>58</td>\n",
       "      <td>27.7</td>\n",
       "      <td>3.3</td>\n",
       "      <td>5.3</td>\n",
       "      <td>...</td>\n",
       "      <td>11.7</td>\n",
       "      <td>2.3</td>\n",
       "      <td>1.7</td>\n",
       "      <td>4.0</td>\n",
       "      <td>0.119</td>\n",
       "      <td>-0.4</td>\n",
       "      <td>0.1</td>\n",
       "      <td>-0.3</td>\n",
       "      <td>0.7</td>\n",
       "      <td>17073171</td>\n",
       "    </tr>\n",
       "    <tr>\n",
       "      <th>3</th>\n",
       "      <td>4</td>\n",
       "      <td>Bam Adebayo\\adebaba01</td>\n",
       "      <td>C</td>\n",
       "      <td>23</td>\n",
       "      <td>MIA</td>\n",
       "      <td>64</td>\n",
       "      <td>64</td>\n",
       "      <td>33.5</td>\n",
       "      <td>7.1</td>\n",
       "      <td>12.5</td>\n",
       "      <td>...</td>\n",
       "      <td>23.7</td>\n",
       "      <td>5.6</td>\n",
       "      <td>3.2</td>\n",
       "      <td>8.8</td>\n",
       "      <td>0.197</td>\n",
       "      <td>2.9</td>\n",
       "      <td>2.0</td>\n",
       "      <td>4.9</td>\n",
       "      <td>3.7</td>\n",
       "      <td>28103550</td>\n",
       "    </tr>\n",
       "    <tr>\n",
       "      <th>7</th>\n",
       "      <td>5</td>\n",
       "      <td>LaMarcus Aldridge\\aldrila01</td>\n",
       "      <td>C</td>\n",
       "      <td>35</td>\n",
       "      <td>SAS</td>\n",
       "      <td>21</td>\n",
       "      <td>18</td>\n",
       "      <td>25.9</td>\n",
       "      <td>5.5</td>\n",
       "      <td>11.8</td>\n",
       "      <td>...</td>\n",
       "      <td>22.2</td>\n",
       "      <td>0.5</td>\n",
       "      <td>0.6</td>\n",
       "      <td>1.1</td>\n",
       "      <td>0.080</td>\n",
       "      <td>-0.2</td>\n",
       "      <td>-0.2</td>\n",
       "      <td>-0.3</td>\n",
       "      <td>0.3</td>\n",
       "      <td>2641691</td>\n",
       "    </tr>\n",
       "    <tr>\n",
       "      <th>10</th>\n",
       "      <td>5</td>\n",
       "      <td>LaMarcus Aldridge\\aldrila01</td>\n",
       "      <td>C</td>\n",
       "      <td>35</td>\n",
       "      <td>BRK</td>\n",
       "      <td>5</td>\n",
       "      <td>5</td>\n",
       "      <td>26.0</td>\n",
       "      <td>5.0</td>\n",
       "      <td>9.6</td>\n",
       "      <td>...</td>\n",
       "      <td>22.2</td>\n",
       "      <td>0.5</td>\n",
       "      <td>0.6</td>\n",
       "      <td>1.1</td>\n",
       "      <td>0.080</td>\n",
       "      <td>-0.2</td>\n",
       "      <td>-0.2</td>\n",
       "      <td>-0.3</td>\n",
       "      <td>0.3</td>\n",
       "      <td>2641691</td>\n",
       "    </tr>\n",
       "  </tbody>\n",
       "</table>\n",
       "<p>5 rows × 51 columns</p>\n",
       "</div>"
      ],
      "text/plain": [
       "    Rk                       Player Pos  Age   Tm   G  GS    MP   FG   FGA  \\\n",
       "0    1   Precious Achiuwa\\achiupr01  PF   21  MIA  61   4  12.1  2.0   3.7   \n",
       "2    3       Steven Adams\\adamsst01   C   27  NOP  58  58  27.7  3.3   5.3   \n",
       "3    4        Bam Adebayo\\adebaba01   C   23  MIA  64  64  33.5  7.1  12.5   \n",
       "7    5  LaMarcus Aldridge\\aldrila01   C   35  SAS  21  18  25.9  5.5  11.8   \n",
       "10   5  LaMarcus Aldridge\\aldrila01   C   35  BRK   5   5  26.0  5.0   9.6   \n",
       "\n",
       "    ...  USG%  OWS  DWS   WS  WS/48  OBPM  DBPM  BPM  VORP    Salary  \n",
       "0   ...  19.5  0.3  1.0  1.3  0.085  -3.6  -0.5 -4.1  -0.4   2711280  \n",
       "2   ...  11.7  2.3  1.7  4.0  0.119  -0.4   0.1 -0.3   0.7  17073171  \n",
       "3   ...  23.7  5.6  3.2  8.8  0.197   2.9   2.0  4.9   3.7  28103550  \n",
       "7   ...  22.2  0.5  0.6  1.1  0.080  -0.2  -0.2 -0.3   0.3   2641691  \n",
       "10  ...  22.2  0.5  0.6  1.1  0.080  -0.2  -0.2 -0.3   0.3   2641691  \n",
       "\n",
       "[5 rows x 51 columns]"
      ]
     },
     "execution_count": 173,
     "metadata": {},
     "output_type": "execute_result"
    }
   ],
   "source": [
    "file = '../Capstone_Project2/Raw_data/df_after_wrangling.csv'\n",
    "df = pd.read_csv(file, index_col='Unnamed: 0')\n",
    "df.head()"
   ]
  },
  {
   "cell_type": "code",
   "execution_count": 174,
   "id": "5abe8c94",
   "metadata": {},
   "outputs": [
    {
     "data": {
      "text/plain": [
       "Rk        False\n",
       "Player    False\n",
       "Pos       False\n",
       "Age       False\n",
       "Tm        False\n",
       "G         False\n",
       "GS        False\n",
       "MP        False\n",
       "FG        False\n",
       "FGA       False\n",
       "FG%       False\n",
       "3P        False\n",
       "3PA       False\n",
       "3P%        True\n",
       "2P        False\n",
       "2PA       False\n",
       "2P%       False\n",
       "eFG%      False\n",
       "FT        False\n",
       "FTA       False\n",
       "FT%        True\n",
       "ORB       False\n",
       "DRB       False\n",
       "TRB       False\n",
       "AST       False\n",
       "STL       False\n",
       "BLK       False\n",
       "TOV       False\n",
       "PF        False\n",
       "PTS       False\n",
       "PER       False\n",
       "TS%       False\n",
       "3PAr      False\n",
       "FTr       False\n",
       "ORB%      False\n",
       "DRB%      False\n",
       "TRB%      False\n",
       "AST%      False\n",
       "STL%      False\n",
       "BLK%      False\n",
       "TOV%      False\n",
       "USG%      False\n",
       "OWS       False\n",
       "DWS       False\n",
       "WS        False\n",
       "WS/48     False\n",
       "OBPM      False\n",
       "DBPM      False\n",
       "BPM       False\n",
       "VORP      False\n",
       "Salary    False\n",
       "dtype: bool"
      ]
     },
     "execution_count": 174,
     "metadata": {},
     "output_type": "execute_result"
    }
   ],
   "source": [
    "df.isna().any()"
   ]
  },
  {
   "cell_type": "code",
   "execution_count": 175,
   "id": "ef1da5fd",
   "metadata": {},
   "outputs": [
    {
     "name": "stdout",
     "output_type": "stream",
     "text": [
      "<class 'pandas.core.frame.DataFrame'>\n",
      "Int64Index: 454 entries, 0 to 1344\n",
      "Data columns (total 51 columns):\n",
      " #   Column  Non-Null Count  Dtype  \n",
      "---  ------  --------------  -----  \n",
      " 0   Rk      454 non-null    int64  \n",
      " 1   Player  454 non-null    object \n",
      " 2   Pos     454 non-null    object \n",
      " 3   Age     454 non-null    int64  \n",
      " 4   Tm      454 non-null    object \n",
      " 5   G       454 non-null    int64  \n",
      " 6   GS      454 non-null    int64  \n",
      " 7   MP      454 non-null    float64\n",
      " 8   FG      454 non-null    float64\n",
      " 9   FGA     454 non-null    float64\n",
      " 10  FG%     454 non-null    float64\n",
      " 11  3P      454 non-null    float64\n",
      " 12  3PA     454 non-null    float64\n",
      " 13  3P%     440 non-null    float64\n",
      " 14  2P      454 non-null    float64\n",
      " 15  2PA     454 non-null    float64\n",
      " 16  2P%     454 non-null    float64\n",
      " 17  eFG%    454 non-null    float64\n",
      " 18  FT      454 non-null    float64\n",
      " 19  FTA     454 non-null    float64\n",
      " 20  FT%     450 non-null    float64\n",
      " 21  ORB     454 non-null    float64\n",
      " 22  DRB     454 non-null    float64\n",
      " 23  TRB     454 non-null    float64\n",
      " 24  AST     454 non-null    float64\n",
      " 25  STL     454 non-null    float64\n",
      " 26  BLK     454 non-null    float64\n",
      " 27  TOV     454 non-null    float64\n",
      " 28  PF      454 non-null    float64\n",
      " 29  PTS     454 non-null    float64\n",
      " 30  PER     454 non-null    float64\n",
      " 31  TS%     454 non-null    float64\n",
      " 32  3PAr    454 non-null    float64\n",
      " 33  FTr     454 non-null    float64\n",
      " 34  ORB%    454 non-null    float64\n",
      " 35  DRB%    454 non-null    float64\n",
      " 36  TRB%    454 non-null    float64\n",
      " 37  AST%    454 non-null    float64\n",
      " 38  STL%    454 non-null    float64\n",
      " 39  BLK%    454 non-null    float64\n",
      " 40  TOV%    454 non-null    float64\n",
      " 41  USG%    454 non-null    float64\n",
      " 42  OWS     454 non-null    float64\n",
      " 43  DWS     454 non-null    float64\n",
      " 44  WS      454 non-null    float64\n",
      " 45  WS/48   454 non-null    float64\n",
      " 46  OBPM    454 non-null    float64\n",
      " 47  DBPM    454 non-null    float64\n",
      " 48  BPM     454 non-null    float64\n",
      " 49  VORP    454 non-null    float64\n",
      " 50  Salary  454 non-null    int64  \n",
      "dtypes: float64(43), int64(5), object(3)\n",
      "memory usage: 184.4+ KB\n"
     ]
    }
   ],
   "source": [
    "df.info()"
   ]
  },
  {
   "cell_type": "code",
   "execution_count": 176,
   "id": "35d09c32",
   "metadata": {},
   "outputs": [
    {
     "data": {
      "text/plain": [
       "False"
      ]
     },
     "execution_count": 176,
     "metadata": {},
     "output_type": "execute_result"
    }
   ],
   "source": [
    "df.duplicated().any()"
   ]
  },
  {
   "cell_type": "markdown",
   "id": "0e0773fb",
   "metadata": {},
   "source": [
    "## 4.2 Cleaning the Data"
   ]
  },
  {
   "cell_type": "markdown",
   "id": "8dac7b25",
   "metadata": {},
   "source": [
    "### 4.2.1 Examine Null Values and Categorical Variables"
   ]
  },
  {
   "cell_type": "markdown",
   "id": "0f65c43f",
   "metadata": {},
   "source": [
    "#### Just by looking at the dataset, we can see that the column 'RK', which is the ranking of the players in the dataset, does not really matter. As a result, we will probably drop the 'RK' column. Moreover, the variable 'TM', which indicates the team the player plays for, could also be dropped, since the team the player plays for is a categorical varialbe that might not have any impact on the players salary. Moreover, we have examined the position argument, which indicates that the position of a player would most likely influence their salaries as point guards in general seem to get paid higher. \n",
    "\n",
    "#### What we will do now is to get rid of the 'Rk' and the 'TM' variables. However, instead of completely get rid of the varialbes, we could add 'Tm' to our name variables to make each name unique, and set our new names to be the index."
   ]
  },
  {
   "cell_type": "code",
   "execution_count": 177,
   "id": "7404c776",
   "metadata": {},
   "outputs": [],
   "source": [
    "df['Player'] = df['Player'] + df['Tm'].astype(str)"
   ]
  },
  {
   "cell_type": "code",
   "execution_count": 178,
   "id": "f80c616a",
   "metadata": {},
   "outputs": [
    {
     "name": "stdout",
     "output_type": "stream",
     "text": [
      "False\n"
     ]
    }
   ],
   "source": [
    "print(df['Player'].duplicated().any())\n",
    "df = df.set_index('Player')"
   ]
  },
  {
   "cell_type": "markdown",
   "id": "b3b6f36c",
   "metadata": {},
   "source": [
    "#### Now that our dataset has a unique index for each observation, now we need to drop the 'Tm' and 'Rk' variables"
   ]
  },
  {
   "cell_type": "code",
   "execution_count": 179,
   "id": "53725181",
   "metadata": {},
   "outputs": [],
   "source": [
    "df.drop(columns=['Rk', 'Tm'],axis=1, inplace=True)"
   ]
  },
  {
   "cell_type": "code",
   "execution_count": 180,
   "id": "f5465d57",
   "metadata": {
    "scrolled": true
   },
   "outputs": [
    {
     "name": "stdout",
     "output_type": "stream",
     "text": [
      "<class 'pandas.core.frame.DataFrame'>\n",
      "Index: 454 entries, Precious Achiuwa\\achiupr01MIA to Ivica Zubac\\zubaciv01LAC\n",
      "Data columns (total 48 columns):\n",
      " #   Column  Non-Null Count  Dtype  \n",
      "---  ------  --------------  -----  \n",
      " 0   Pos     454 non-null    object \n",
      " 1   Age     454 non-null    int64  \n",
      " 2   G       454 non-null    int64  \n",
      " 3   GS      454 non-null    int64  \n",
      " 4   MP      454 non-null    float64\n",
      " 5   FG      454 non-null    float64\n",
      " 6   FGA     454 non-null    float64\n",
      " 7   FG%     454 non-null    float64\n",
      " 8   3P      454 non-null    float64\n",
      " 9   3PA     454 non-null    float64\n",
      " 10  3P%     440 non-null    float64\n",
      " 11  2P      454 non-null    float64\n",
      " 12  2PA     454 non-null    float64\n",
      " 13  2P%     454 non-null    float64\n",
      " 14  eFG%    454 non-null    float64\n",
      " 15  FT      454 non-null    float64\n",
      " 16  FTA     454 non-null    float64\n",
      " 17  FT%     450 non-null    float64\n",
      " 18  ORB     454 non-null    float64\n",
      " 19  DRB     454 non-null    float64\n",
      " 20  TRB     454 non-null    float64\n",
      " 21  AST     454 non-null    float64\n",
      " 22  STL     454 non-null    float64\n",
      " 23  BLK     454 non-null    float64\n",
      " 24  TOV     454 non-null    float64\n",
      " 25  PF      454 non-null    float64\n",
      " 26  PTS     454 non-null    float64\n",
      " 27  PER     454 non-null    float64\n",
      " 28  TS%     454 non-null    float64\n",
      " 29  3PAr    454 non-null    float64\n",
      " 30  FTr     454 non-null    float64\n",
      " 31  ORB%    454 non-null    float64\n",
      " 32  DRB%    454 non-null    float64\n",
      " 33  TRB%    454 non-null    float64\n",
      " 34  AST%    454 non-null    float64\n",
      " 35  STL%    454 non-null    float64\n",
      " 36  BLK%    454 non-null    float64\n",
      " 37  TOV%    454 non-null    float64\n",
      " 38  USG%    454 non-null    float64\n",
      " 39  OWS     454 non-null    float64\n",
      " 40  DWS     454 non-null    float64\n",
      " 41  WS      454 non-null    float64\n",
      " 42  WS/48   454 non-null    float64\n",
      " 43  OBPM    454 non-null    float64\n",
      " 44  DBPM    454 non-null    float64\n",
      " 45  BPM     454 non-null    float64\n",
      " 46  VORP    454 non-null    float64\n",
      " 47  Salary  454 non-null    int64  \n",
      "dtypes: float64(43), int64(4), object(1)\n",
      "memory usage: 173.8+ KB\n"
     ]
    }
   ],
   "source": [
    "df.info()"
   ]
  },
  {
   "cell_type": "code",
   "execution_count": 181,
   "id": "92ab035c",
   "metadata": {
    "scrolled": true
   },
   "outputs": [
    {
     "data": {
      "text/plain": [
       "Salary    1.000000\n",
       "PTS       0.753240\n",
       "FG        0.734431\n",
       "FGA       0.714919\n",
       "VORP      0.700504\n",
       "FT        0.691903\n",
       "FTA       0.669854\n",
       "2PA       0.652440\n",
       "TOV       0.647032\n",
       "MP        0.645760\n",
       "2P        0.644801\n",
       "AST       0.638246\n",
       "WS        0.621979\n",
       "OBPM      0.595794\n",
       "OWS       0.595153\n",
       "GS        0.571355\n",
       "USG%      0.553499\n",
       "BPM       0.532728\n",
       "DRB       0.528392\n",
       "AST%      0.508455\n",
       "PER       0.497591\n",
       "DWS       0.488208\n",
       "3P        0.487513\n",
       "3PA       0.483417\n",
       "STL       0.455381\n",
       "TRB       0.443612\n",
       "WS/48     0.351978\n",
       "PF        0.309866\n",
       "Age       0.260280\n",
       "FT%       0.242972\n",
       "G         0.216306\n",
       "BLK       0.205603\n",
       "TS%       0.193518\n",
       "FTr       0.162424\n",
       "3P%       0.139626\n",
       "ORB       0.139121\n",
       "eFG%      0.108427\n",
       "DRB%      0.094288\n",
       "FG%       0.087931\n",
       "DBPM      0.057979\n",
       "2P%       0.047926\n",
       "TRB%      0.013904\n",
       "STL%      0.005446\n",
       "TOV%     -0.009379\n",
       "3PAr     -0.052492\n",
       "BLK%     -0.061897\n",
       "ORB%     -0.134637\n",
       "Name: Salary, dtype: float64"
      ]
     },
     "execution_count": 181,
     "metadata": {},
     "output_type": "execute_result"
    }
   ],
   "source": [
    "salary_correlations = df.corr().loc['Salary']\n",
    "salary_correlations.sort_values(ascending=False)"
   ]
  },
  {
   "cell_type": "markdown",
   "id": "897a173d",
   "metadata": {},
   "source": [
    "#### From the graph, we can tell that out of the almost 50 variables we have, there are a few variables that we could use to explain most of the salary's variances. Later, we would do a PCA on the data to examine the most important features."
   ]
  },
  {
   "cell_type": "markdown",
   "id": "eddbaa98",
   "metadata": {},
   "source": [
    "### 4.2.2 Feature Engineering categorical variables\n",
    "#### Now we are going to make the position arguments into dummy variables."
   ]
  },
  {
   "cell_type": "code",
   "execution_count": 182,
   "id": "909bb7e9",
   "metadata": {},
   "outputs": [
    {
     "name": "stdout",
     "output_type": "stream",
     "text": [
      "Pos\n",
      "C      97\n",
      "PF     91\n",
      "PG     82\n",
      "SF     79\n",
      "SG    105\n",
      "Name: Age, dtype: int64\n"
     ]
    }
   ],
   "source": [
    "print(df.groupby('Pos')['Age'].count())"
   ]
  },
  {
   "cell_type": "code",
   "execution_count": 184,
   "id": "0e910486",
   "metadata": {},
   "outputs": [],
   "source": [
    "df['Pos'].unique()\n",
    "series_pos = df['Pos']"
   ]
  },
  {
   "cell_type": "code",
   "execution_count": 185,
   "id": "b7c82a04",
   "metadata": {},
   "outputs": [],
   "source": [
    "df = pd.get_dummies(df)"
   ]
  },
  {
   "cell_type": "markdown",
   "id": "e6f0dc9a",
   "metadata": {},
   "source": [
    "### 4.2.3 Filling Missing Values"
   ]
  },
  {
   "cell_type": "code",
   "execution_count": 186,
   "id": "537c99f0",
   "metadata": {},
   "outputs": [],
   "source": [
    "df = df.fillna(0)"
   ]
  },
  {
   "cell_type": "markdown",
   "id": "d8dd06a6",
   "metadata": {},
   "source": [
    "## 4.3 Standardize Data Test and Split Data"
   ]
  },
  {
   "cell_type": "code",
   "execution_count": 187,
   "id": "b0c4d9bd",
   "metadata": {},
   "outputs": [
    {
     "data": {
      "text/html": [
       "<div>\n",
       "<style scoped>\n",
       "    .dataframe tbody tr th:only-of-type {\n",
       "        vertical-align: middle;\n",
       "    }\n",
       "\n",
       "    .dataframe tbody tr th {\n",
       "        vertical-align: top;\n",
       "    }\n",
       "\n",
       "    .dataframe thead th {\n",
       "        text-align: right;\n",
       "    }\n",
       "</style>\n",
       "<table border=\"1\" class=\"dataframe\">\n",
       "  <thead>\n",
       "    <tr style=\"text-align: right;\">\n",
       "      <th></th>\n",
       "      <th>Age</th>\n",
       "      <th>G</th>\n",
       "      <th>GS</th>\n",
       "      <th>MP</th>\n",
       "      <th>FG</th>\n",
       "      <th>FGA</th>\n",
       "      <th>FG%</th>\n",
       "      <th>3P</th>\n",
       "      <th>3PA</th>\n",
       "      <th>3P%</th>\n",
       "      <th>...</th>\n",
       "      <th>OBPM</th>\n",
       "      <th>DBPM</th>\n",
       "      <th>BPM</th>\n",
       "      <th>VORP</th>\n",
       "      <th>Salary</th>\n",
       "      <th>Pos_C</th>\n",
       "      <th>Pos_PF</th>\n",
       "      <th>Pos_PG</th>\n",
       "      <th>Pos_SF</th>\n",
       "      <th>Pos_SG</th>\n",
       "    </tr>\n",
       "  </thead>\n",
       "  <tbody>\n",
       "    <tr>\n",
       "      <th>count</th>\n",
       "      <td>454.000000</td>\n",
       "      <td>454.000000</td>\n",
       "      <td>454.000000</td>\n",
       "      <td>454.000000</td>\n",
       "      <td>454.000000</td>\n",
       "      <td>454.000000</td>\n",
       "      <td>454.000000</td>\n",
       "      <td>454.000000</td>\n",
       "      <td>454.000000</td>\n",
       "      <td>454.000000</td>\n",
       "      <td>...</td>\n",
       "      <td>454.000000</td>\n",
       "      <td>454.000000</td>\n",
       "      <td>454.000000</td>\n",
       "      <td>454.000000</td>\n",
       "      <td>4.540000e+02</td>\n",
       "      <td>454.000000</td>\n",
       "      <td>454.000000</td>\n",
       "      <td>454.000000</td>\n",
       "      <td>454.000000</td>\n",
       "      <td>454.000000</td>\n",
       "    </tr>\n",
       "    <tr>\n",
       "      <th>mean</th>\n",
       "      <td>25.966960</td>\n",
       "      <td>43.916300</td>\n",
       "      <td>22.960352</td>\n",
       "      <td>22.850220</td>\n",
       "      <td>3.919604</td>\n",
       "      <td>8.419604</td>\n",
       "      <td>0.466742</td>\n",
       "      <td>1.180396</td>\n",
       "      <td>3.247577</td>\n",
       "      <td>0.318242</td>\n",
       "      <td>...</td>\n",
       "      <td>-0.498678</td>\n",
       "      <td>0.039648</td>\n",
       "      <td>-0.460352</td>\n",
       "      <td>0.654185</td>\n",
       "      <td>9.103413e+06</td>\n",
       "      <td>0.213656</td>\n",
       "      <td>0.200441</td>\n",
       "      <td>0.180617</td>\n",
       "      <td>0.174009</td>\n",
       "      <td>0.231278</td>\n",
       "    </tr>\n",
       "    <tr>\n",
       "      <th>std</th>\n",
       "      <td>4.248491</td>\n",
       "      <td>19.590331</td>\n",
       "      <td>23.087858</td>\n",
       "      <td>8.123187</td>\n",
       "      <td>2.269588</td>\n",
       "      <td>4.745942</td>\n",
       "      <td>0.086830</td>\n",
       "      <td>0.937089</td>\n",
       "      <td>2.367240</td>\n",
       "      <td>0.124350</td>\n",
       "      <td>...</td>\n",
       "      <td>2.800630</td>\n",
       "      <td>1.222495</td>\n",
       "      <td>3.264028</td>\n",
       "      <td>1.180757</td>\n",
       "      <td>9.908377e+06</td>\n",
       "      <td>0.410339</td>\n",
       "      <td>0.400772</td>\n",
       "      <td>0.385125</td>\n",
       "      <td>0.379535</td>\n",
       "      <td>0.422115</td>\n",
       "    </tr>\n",
       "    <tr>\n",
       "      <th>min</th>\n",
       "      <td>19.000000</td>\n",
       "      <td>1.000000</td>\n",
       "      <td>0.000000</td>\n",
       "      <td>3.000000</td>\n",
       "      <td>0.000000</td>\n",
       "      <td>0.500000</td>\n",
       "      <td>0.000000</td>\n",
       "      <td>0.000000</td>\n",
       "      <td>0.000000</td>\n",
       "      <td>0.000000</td>\n",
       "      <td>...</td>\n",
       "      <td>-7.800000</td>\n",
       "      <td>-2.700000</td>\n",
       "      <td>-9.600000</td>\n",
       "      <td>-1.700000</td>\n",
       "      <td>8.557800e+04</td>\n",
       "      <td>0.000000</td>\n",
       "      <td>0.000000</td>\n",
       "      <td>0.000000</td>\n",
       "      <td>0.000000</td>\n",
       "      <td>0.000000</td>\n",
       "    </tr>\n",
       "    <tr>\n",
       "      <th>25%</th>\n",
       "      <td>22.000000</td>\n",
       "      <td>26.250000</td>\n",
       "      <td>3.000000</td>\n",
       "      <td>17.400000</td>\n",
       "      <td>2.300000</td>\n",
       "      <td>4.800000</td>\n",
       "      <td>0.418000</td>\n",
       "      <td>0.400000</td>\n",
       "      <td>1.325000</td>\n",
       "      <td>0.288500</td>\n",
       "      <td>...</td>\n",
       "      <td>-2.200000</td>\n",
       "      <td>-0.800000</td>\n",
       "      <td>-2.300000</td>\n",
       "      <td>0.000000</td>\n",
       "      <td>2.170498e+06</td>\n",
       "      <td>0.000000</td>\n",
       "      <td>0.000000</td>\n",
       "      <td>0.000000</td>\n",
       "      <td>0.000000</td>\n",
       "      <td>0.000000</td>\n",
       "    </tr>\n",
       "    <tr>\n",
       "      <th>50%</th>\n",
       "      <td>26.000000</td>\n",
       "      <td>47.000000</td>\n",
       "      <td>13.000000</td>\n",
       "      <td>23.350000</td>\n",
       "      <td>3.500000</td>\n",
       "      <td>7.600000</td>\n",
       "      <td>0.450000</td>\n",
       "      <td>1.000000</td>\n",
       "      <td>2.850000</td>\n",
       "      <td>0.348000</td>\n",
       "      <td>...</td>\n",
       "      <td>-0.800000</td>\n",
       "      <td>0.000000</td>\n",
       "      <td>-0.700000</td>\n",
       "      <td>0.300000</td>\n",
       "      <td>4.807076e+06</td>\n",
       "      <td>0.000000</td>\n",
       "      <td>0.000000</td>\n",
       "      <td>0.000000</td>\n",
       "      <td>0.000000</td>\n",
       "      <td>0.000000</td>\n",
       "    </tr>\n",
       "    <tr>\n",
       "      <th>75%</th>\n",
       "      <td>29.000000</td>\n",
       "      <td>61.000000</td>\n",
       "      <td>40.750000</td>\n",
       "      <td>29.675000</td>\n",
       "      <td>5.075000</td>\n",
       "      <td>10.975000</td>\n",
       "      <td>0.504750</td>\n",
       "      <td>1.800000</td>\n",
       "      <td>4.900000</td>\n",
       "      <td>0.390000</td>\n",
       "      <td>...</td>\n",
       "      <td>0.900000</td>\n",
       "      <td>0.700000</td>\n",
       "      <td>1.100000</td>\n",
       "      <td>1.000000</td>\n",
       "      <td>1.259971e+07</td>\n",
       "      <td>0.000000</td>\n",
       "      <td>0.000000</td>\n",
       "      <td>0.000000</td>\n",
       "      <td>0.000000</td>\n",
       "      <td>0.000000</td>\n",
       "    </tr>\n",
       "    <tr>\n",
       "      <th>max</th>\n",
       "      <td>40.000000</td>\n",
       "      <td>72.000000</td>\n",
       "      <td>72.000000</td>\n",
       "      <td>37.600000</td>\n",
       "      <td>11.200000</td>\n",
       "      <td>23.000000</td>\n",
       "      <td>1.000000</td>\n",
       "      <td>5.300000</td>\n",
       "      <td>12.700000</td>\n",
       "      <td>1.000000</td>\n",
       "      <td>...</td>\n",
       "      <td>24.100000</td>\n",
       "      <td>8.200000</td>\n",
       "      <td>31.100000</td>\n",
       "      <td>8.800000</td>\n",
       "      <td>4.578097e+07</td>\n",
       "      <td>1.000000</td>\n",
       "      <td>1.000000</td>\n",
       "      <td>1.000000</td>\n",
       "      <td>1.000000</td>\n",
       "      <td>1.000000</td>\n",
       "    </tr>\n",
       "  </tbody>\n",
       "</table>\n",
       "<p>8 rows × 52 columns</p>\n",
       "</div>"
      ],
      "text/plain": [
       "              Age           G          GS          MP          FG         FGA  \\\n",
       "count  454.000000  454.000000  454.000000  454.000000  454.000000  454.000000   \n",
       "mean    25.966960   43.916300   22.960352   22.850220    3.919604    8.419604   \n",
       "std      4.248491   19.590331   23.087858    8.123187    2.269588    4.745942   \n",
       "min     19.000000    1.000000    0.000000    3.000000    0.000000    0.500000   \n",
       "25%     22.000000   26.250000    3.000000   17.400000    2.300000    4.800000   \n",
       "50%     26.000000   47.000000   13.000000   23.350000    3.500000    7.600000   \n",
       "75%     29.000000   61.000000   40.750000   29.675000    5.075000   10.975000   \n",
       "max     40.000000   72.000000   72.000000   37.600000   11.200000   23.000000   \n",
       "\n",
       "              FG%          3P         3PA         3P%  ...        OBPM  \\\n",
       "count  454.000000  454.000000  454.000000  454.000000  ...  454.000000   \n",
       "mean     0.466742    1.180396    3.247577    0.318242  ...   -0.498678   \n",
       "std      0.086830    0.937089    2.367240    0.124350  ...    2.800630   \n",
       "min      0.000000    0.000000    0.000000    0.000000  ...   -7.800000   \n",
       "25%      0.418000    0.400000    1.325000    0.288500  ...   -2.200000   \n",
       "50%      0.450000    1.000000    2.850000    0.348000  ...   -0.800000   \n",
       "75%      0.504750    1.800000    4.900000    0.390000  ...    0.900000   \n",
       "max      1.000000    5.300000   12.700000    1.000000  ...   24.100000   \n",
       "\n",
       "             DBPM         BPM        VORP        Salary       Pos_C  \\\n",
       "count  454.000000  454.000000  454.000000  4.540000e+02  454.000000   \n",
       "mean     0.039648   -0.460352    0.654185  9.103413e+06    0.213656   \n",
       "std      1.222495    3.264028    1.180757  9.908377e+06    0.410339   \n",
       "min     -2.700000   -9.600000   -1.700000  8.557800e+04    0.000000   \n",
       "25%     -0.800000   -2.300000    0.000000  2.170498e+06    0.000000   \n",
       "50%      0.000000   -0.700000    0.300000  4.807076e+06    0.000000   \n",
       "75%      0.700000    1.100000    1.000000  1.259971e+07    0.000000   \n",
       "max      8.200000   31.100000    8.800000  4.578097e+07    1.000000   \n",
       "\n",
       "           Pos_PF      Pos_PG      Pos_SF      Pos_SG  \n",
       "count  454.000000  454.000000  454.000000  454.000000  \n",
       "mean     0.200441    0.180617    0.174009    0.231278  \n",
       "std      0.400772    0.385125    0.379535    0.422115  \n",
       "min      0.000000    0.000000    0.000000    0.000000  \n",
       "25%      0.000000    0.000000    0.000000    0.000000  \n",
       "50%      0.000000    0.000000    0.000000    0.000000  \n",
       "75%      0.000000    0.000000    0.000000    0.000000  \n",
       "max      1.000000    1.000000    1.000000    1.000000  \n",
       "\n",
       "[8 rows x 52 columns]"
      ]
     },
     "execution_count": 187,
     "metadata": {},
     "output_type": "execute_result"
    }
   ],
   "source": [
    "df.describe()"
   ]
  },
  {
   "cell_type": "markdown",
   "id": "5198bd43",
   "metadata": {},
   "source": [
    "#### From the graph, we can see that most features are not scaled, so we will use a standard scaler variables along with "
   ]
  },
  {
   "cell_type": "markdown",
   "id": "9a8d992d",
   "metadata": {},
   "source": [
    "We first split the data into X and y data. Then, we will use 30% of the data we have to test and split the data."
   ]
  },
  {
   "cell_type": "code",
   "execution_count": 188,
   "id": "6af8bbd2",
   "metadata": {},
   "outputs": [],
   "source": [
    "ss = StandardScaler()\n",
    "X = df.loc[:, ~df.columns.isin(['Salary'])]\n",
    "y = df.loc[:, 'Salary']\n",
    "\n",
    "X_scaled = ss.fit_transform(X)"
   ]
  },
  {
   "cell_type": "code",
   "execution_count": 189,
   "id": "5c2c737f",
   "metadata": {},
   "outputs": [],
   "source": [
    "X_train, X_test, y_train, y_test = train_test_split(X_scaled, y, test_size=.3, random_state=100)"
   ]
  },
  {
   "cell_type": "code",
   "execution_count": 190,
   "id": "0882c644",
   "metadata": {},
   "outputs": [],
   "source": [
    "datapath = '../Capstone_Project2/'\n",
    "df.to_csv(\"../Capstone_Project2/clean_df\")"
   ]
  },
  {
   "cell_type": "code",
   "execution_count": 191,
   "id": "1a06000e",
   "metadata": {},
   "outputs": [],
   "source": [
    "pd.DataFrame(X_train).to_csv(\"../Capstone_Project2/X_train\")"
   ]
  },
  {
   "cell_type": "code",
   "execution_count": 192,
   "id": "ab0eedd8",
   "metadata": {},
   "outputs": [],
   "source": [
    "pd.DataFrame(y_train).to_csv(\"../Capstone_Project2/y_train\")"
   ]
  },
  {
   "cell_type": "code",
   "execution_count": 193,
   "id": "9f7618d0",
   "metadata": {},
   "outputs": [],
   "source": [
    "pd.DataFrame(X_test).to_csv(\"../Capstone_Project2/X_test\")"
   ]
  },
  {
   "cell_type": "code",
   "execution_count": 194,
   "id": "2307d4a2",
   "metadata": {},
   "outputs": [],
   "source": [
    "pd.DataFrame(y_test).to_csv(\"../Capstone_Project2/y_test\")"
   ]
  },
  {
   "cell_type": "markdown",
   "id": "92878c3c",
   "metadata": {},
   "source": [
    "#### Now that we have saved our clean dataframes, test data, and trained data"
   ]
  },
  {
   "cell_type": "markdown",
   "id": "4e355e69",
   "metadata": {},
   "source": [
    "## 4.4 Principle Component Analysis"
   ]
  },
  {
   "cell_type": "code",
   "execution_count": 195,
   "id": "2577ec95",
   "metadata": {},
   "outputs": [],
   "source": [
    "from matplotlib.colors import ListedColormap as clp\n",
    "from sklearn.decomposition import PCA"
   ]
  },
  {
   "cell_type": "markdown",
   "id": "a0b95849",
   "metadata": {},
   "source": [
    "#### We will do a quick PCA to determine which of our features are the most important ones. We want to see if we can do a KMeans to make the dataset into 3 clusters. The reason for the 3 cluster is that we want to split the player into three clusters based on their salaries."
   ]
  },
  {
   "cell_type": "markdown",
   "id": "c6133667",
   "metadata": {},
   "source": [
    "We will engineer the features into several categories. The players with lower than 10M for the salary will be low, and 10M to 20M will be mid, and the rest is high."
   ]
  },
  {
   "cell_type": "code",
   "execution_count": 196,
   "id": "15cf259a",
   "metadata": {},
   "outputs": [],
   "source": [
    "temp = np.array([])\n",
    "for i in df['Salary']:\n",
    "    status = 100\n",
    "    if i < 10000000:\n",
    "        status = 0\n",
    "    elif 10000000 <= i < 20000000:\n",
    "        status = 1\n",
    "    else:\n",
    "        status = 2\n",
    "    temp = np.append(temp, status)\n",
    "df['Status'] = temp"
   ]
  },
  {
   "cell_type": "code",
   "execution_count": 209,
   "id": "f8fdf737",
   "metadata": {},
   "outputs": [
    {
     "data": {
      "text/plain": [
       "<matplotlib.collections.PathCollection at 0x7fd5a33fc910>"
      ]
     },
     "execution_count": 209,
     "metadata": {},
     "output_type": "execute_result"
    },
    {
     "data": {
      "image/png": "[encoded data removed]",
      "text/plain": [
       "<Figure size 432x288 with 1 Axes>"
      ]
     },
     "metadata": {
      "needs_background": "light"
     },
     "output_type": "display_data"
    }
   ],
   "source": [
    "modelK = KMeans(n_clusters=3)\n",
    "pred = modelK.fit_predict(X_scaled)\n",
    "\n",
    "modelP = PCA(n_components=2)\n",
    "new_data = modelP.fit_transform(X_scaled)\n",
    "\n",
    "x = new_data[:, 0]\n",
    "y = new_data[:, 1]\n",
    "\n",
    "plt.scatter(x,y,c=pred, cmap=clp(['red', 'green', 'blue']))"
   ]
  },
  {
   "cell_type": "code",
   "execution_count": 211,
   "id": "db75f61e",
   "metadata": {
    "scrolled": false
   },
   "outputs": [
    {
     "data": {
      "text/plain": [
       "<matplotlib.collections.PathCollection at 0x7fd5a35a7c70>"
      ]
     },
     "execution_count": 211,
     "metadata": {},
     "output_type": "execute_result"
    },
    {
     "data": {
      "image/png": "[encoded data removed]",
      "text/plain": [
       "<Figure size 432x288 with 1 Axes>"
      ]
     },
     "metadata": {
      "needs_background": "light"
     },
     "output_type": "display_data"
    }
   ],
   "source": [
    "plt.scatter(x,y,c=df['Status'], cmap=clp(['red', 'green', 'blue']))"
   ]
  },
  {
   "cell_type": "code",
   "execution_count": 212,
   "id": "9b3bed87",
   "metadata": {},
   "outputs": [
    {
     "data": {
      "text/plain": [
       "array([16.54325573,  9.892996  ])"
      ]
     },
     "execution_count": 212,
     "metadata": {},
     "output_type": "execute_result"
    }
   ],
   "source": [
    "modelP.explained_variance_"
   ]
  },
  {
   "cell_type": "code",
   "execution_count": null,
   "id": "498196d6",
   "metadata": {},
   "outputs": [],
   "source": []
  }
 ],
 "metadata": {
  "kernelspec": {
   "display_name": "Python 3 (ipykernel)",
   "language": "python",
   "name": "python3"
  },
  "language_info": {
   "codemirror_mode": {
    "name": "ipython",
    "version": 3
   },
   "file_extension": ".py",
   "mimetype": "text/x-python",
   "name": "python",
   "nbconvert_exporter": "python",
   "pygments_lexer": "ipython3",
   "version": "3.9.12"
  }
 },
 "nbformat": 4,
 "nbformat_minor": 5
}
